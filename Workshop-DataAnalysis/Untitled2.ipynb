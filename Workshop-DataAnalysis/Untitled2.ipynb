{
 "cells": [
  {
   "cell_type": "markdown",
   "id": "4efa2f81",
   "metadata": {},
   "source": [
    "#pandas\n"
   ]
  },
  {
   "cell_type": "code",
   "execution_count": 2,
   "id": "0e6040d0",
   "metadata": {},
   "outputs": [
    {
     "data": {
      "text/plain": [
       "'1.5.3'"
      ]
     },
     "execution_count": 2,
     "metadata": {},
     "output_type": "execute_result"
    }
   ],
   "source": [
    "import pandas as pd\n",
    "pd.__version__"
   ]
  },
  {
   "cell_type": "code",
   "execution_count": 3,
   "id": "ef6e3e3a",
   "metadata": {},
   "outputs": [
    {
     "ename": "SyntaxError",
     "evalue": "invalid syntax (3077438956.py, line 2)",
     "output_type": "error",
     "traceback": [
      "\u001b[1;36m  Cell \u001b[1;32mIn[3], line 2\u001b[1;36m\u001b[0m\n\u001b[1;33m    -by using list/tuple/dicyionary/numpy 1-d array to create a series datastructure\u001b[0m\n\u001b[1;37m        ^\u001b[0m\n\u001b[1;31mSyntaxError\u001b[0m\u001b[1;31m:\u001b[0m invalid syntax\n"
     ]
    }
   ],
   "source": [
    "# 1.series datastructure:\n",
    "-by using list/tuple/dicyionary/numpy 1-d array to create a series datastructure \n",
    "-syntax:\n",
    "    variable_name=pd.Series(list/tuple/dictionary)"
   ]
  },
  {
   "cell_type": "code",
   "execution_count": 5,
   "id": "bc6bf340",
   "metadata": {},
   "outputs": [
    {
     "name": "stdout",
     "output_type": "stream",
     "text": [
      "0        10\n",
      "1    pyhton\n",
      "2      45.6\n",
      "3       100\n",
      "4       200\n",
      "dtype: object\n",
      "<class 'pandas.core.series.Series'>\n"
     ]
    }
   ],
   "source": [
    "#to create a series using a list?\n",
    "sd1=pd.Series([10,'pyhton',45.6,100,200])\n",
    "print(sd1)\n",
    "print(type(sd1))"
   ]
  },
  {
   "cell_type": "code",
   "execution_count": 6,
   "id": "a6c04f37",
   "metadata": {},
   "outputs": [
    {
     "name": "stdout",
     "output_type": "stream",
     "text": [
      "A        10\n",
      "B    pyhton\n",
      "C      45.6\n",
      "D       100\n",
      "E       200\n",
      "dtype: object\n"
     ]
    }
   ],
   "source": [
    "#To change the index names from a series..\n",
    "sd1.index=['A','B','C','D','E']\n",
    "print(sd1)"
   ]
  },
  {
   "cell_type": "code",
   "execution_count": 7,
   "id": "76bd3c2b",
   "metadata": {},
   "outputs": [
    {
     "ename": "AttributeError",
     "evalue": "module 'pandas' has no attribute 'series'",
     "output_type": "error",
     "traceback": [
      "\u001b[1;31m---------------------------------------------------------------------------\u001b[0m",
      "\u001b[1;31mAttributeError\u001b[0m                            Traceback (most recent call last)",
      "Cell \u001b[1;32mIn[7], line 2\u001b[0m\n\u001b[0;32m      1\u001b[0m \u001b[38;5;66;03m#to createe a series with index names?\u001b[39;00m\n\u001b[1;32m----> 2\u001b[0m sd3\u001b[38;5;241m=\u001b[39mpd\u001b[38;5;241m.\u001b[39mseries({\u001b[38;5;124m'\u001b[39m\u001b[38;5;124mName\u001b[39m\u001b[38;5;124m'\u001b[39m:\u001b[38;5;124m'\u001b[39m\u001b[38;5;124mAadyan\u001b[39m\u001b[38;5;124m'\u001b[39m,\u001b[38;5;124m'\u001b[39m\u001b[38;5;124mrno\u001b[39m\u001b[38;5;124m'\u001b[39m:\u001b[38;5;241m205\u001b[39m,\u001b[38;5;124m'\u001b[39m\u001b[38;5;124mBramch\u001b[39m\u001b[38;5;124m'\u001b[39m:\u001b[38;5;124m'\u001b[39m\u001b[38;5;124mAIML\u001b[39m\u001b[38;5;124m'\u001b[39m})\n\u001b[0;32m      3\u001b[0m \u001b[38;5;28mprint\u001b[39m(sd3)\n",
      "File \u001b[1;32m~\\anaconda3\\Lib\\site-packages\\pandas\\__init__.py:264\u001b[0m, in \u001b[0;36m__getattr__\u001b[1;34m(name)\u001b[0m\n\u001b[0;32m    260\u001b[0m     \u001b[38;5;28;01mfrom\u001b[39;00m \u001b[38;5;21;01mpandas\u001b[39;00m\u001b[38;5;21;01m.\u001b[39;00m\u001b[38;5;21;01mcore\u001b[39;00m\u001b[38;5;21;01m.\u001b[39;00m\u001b[38;5;21;01marrays\u001b[39;00m\u001b[38;5;21;01m.\u001b[39;00m\u001b[38;5;21;01msparse\u001b[39;00m \u001b[38;5;28;01mimport\u001b[39;00m SparseArray \u001b[38;5;28;01mas\u001b[39;00m _SparseArray\n\u001b[0;32m    262\u001b[0m     \u001b[38;5;28;01mreturn\u001b[39;00m _SparseArray\n\u001b[1;32m--> 264\u001b[0m \u001b[38;5;28;01mraise\u001b[39;00m \u001b[38;5;167;01mAttributeError\u001b[39;00m(\u001b[38;5;124mf\u001b[39m\u001b[38;5;124m\"\u001b[39m\u001b[38;5;124mmodule \u001b[39m\u001b[38;5;124m'\u001b[39m\u001b[38;5;124mpandas\u001b[39m\u001b[38;5;124m'\u001b[39m\u001b[38;5;124m has no attribute \u001b[39m\u001b[38;5;124m'\u001b[39m\u001b[38;5;132;01m{\u001b[39;00mname\u001b[38;5;132;01m}\u001b[39;00m\u001b[38;5;124m'\u001b[39m\u001b[38;5;124m\"\u001b[39m)\n",
      "\u001b[1;31mAttributeError\u001b[0m: module 'pandas' has no attribute 'series'"
     ]
    }
   ],
   "source": [
    "#to createe a series with index names?\n",
    "sd3=pd.series({'Name':'Aadyan','rno':205,'Branch':'AIML'})\n",
    "print(sd3)"
   ]
  },
  {
   "cell_type": "code",
   "execution_count": 9,
   "id": "1248a2ac",
   "metadata": {},
   "outputs": [
    {
     "name": "stdout",
     "output_type": "stream",
     "text": [
      "Name      Aadyan\n",
      "rno          205\n",
      "Branch      AIML\n",
      "dtype: object\n"
     ]
    }
   ],
   "source": [
    "\n",
    "sd3 = ('Aadyan', 205, 'AIML')\n",
    "ind = ('Name', 'rno', 'Branch')\n",
    "\n",
    "sd3 = pd.Series(sd3, ind)\n",
    "print(sd3)"
   ]
  },
  {
   "cell_type": "code",
   "execution_count": 10,
   "id": "d88d1e24",
   "metadata": {},
   "outputs": [
    {
     "name": "stdout",
     "output_type": "stream",
     "text": [
      "Name      Aadyan\n",
      "rno          205\n",
      "Branch      AIML\n",
      "dtype: object\n"
     ]
    }
   ],
   "source": [
    "import numpy as np\n",
    "data = ('Aadyan', 205, 'AIML')\n",
    "ind = ('Name', 'rno', 'Branch')\n",
    "\n",
    "sd3 =pd.Series(np.array(data), ind)\n",
    "print(sd3)"
   ]
  },
  {
   "cell_type": "code",
   "execution_count": 11,
   "id": "b0b68dd1",
   "metadata": {},
   "outputs": [
    {
     "name": "stdout",
     "output_type": "stream",
     "text": [
      "0    10\n",
      "1    20\n",
      "2     3\n",
      "dtype: int32\n"
     ]
    }
   ],
   "source": [
    "sd4=pd.Series(np.array([10,20,3]))\n",
    "print(sd4)"
   ]
  },
  {
   "cell_type": "code",
   "execution_count": 12,
   "id": "841bd465",
   "metadata": {},
   "outputs": [
    {
     "name": "stdout",
     "output_type": "stream",
     "text": [
      "A        10\n",
      "B    pyhton\n",
      "C      45.6\n",
      "D       100\n",
      "E       200\n",
      "dtype: object\n",
      "pyhton\n"
     ]
    }
   ],
   "source": [
    "print(sd1)\n",
    "print(sd1['B'])"
   ]
  },
  {
   "cell_type": "markdown",
   "id": "fb67b824",
   "metadata": {},
   "source": [
    "###update the series data:\n",
    "-1.using index names\n",
    "-2.using replace() method"
   ]
  },
  {
   "cell_type": "code",
   "execution_count": 13,
   "id": "fa39e190",
   "metadata": {},
   "outputs": [
    {
     "name": "stdout",
     "output_type": "stream",
     "text": [
      "A                  10\n",
      "B              pyhton\n",
      "C                45.6\n",
      "D                 100\n",
      "E    java programming\n",
      "dtype: object\n"
     ]
    }
   ],
   "source": [
    "sd1['E']='java programming'\n",
    "print(sd1)"
   ]
  },
  {
   "cell_type": "code",
   "execution_count": 15,
   "id": "9898fc18",
   "metadata": {},
   "outputs": [
    {
     "name": "stdout",
     "output_type": "stream",
     "text": [
      "A                  10\n",
      "B              pyhton\n",
      "C                45.6\n",
      "D              apssdc\n",
      "E    java programming\n",
      "dtype: object\n"
     ]
    }
   ],
   "source": [
    "# to update the multiple data using replace() method\n",
    "sd1.replace(to_replace=['python',100],\n",
    "value=[23.4,'apssdc'],\n",
    "inplace=True)\n",
    "print(sd1)"
   ]
  },
  {
   "cell_type": "code",
   "execution_count": null,
   "id": "53fcb749",
   "metadata": {},
   "outputs": [],
   "source": []
  }
 ],
 "metadata": {
  "kernelspec": {
   "display_name": "Python 3 (ipykernel)",
   "language": "python",
   "name": "python3"
  },
  "language_info": {
   "codemirror_mode": {
    "name": "ipython",
    "version": 3
   },
   "file_extension": ".py",
   "mimetype": "text/x-python",
   "name": "python",
   "nbconvert_exporter": "python",
   "pygments_lexer": "ipython3",
   "version": "3.11.4"
  }
 },
 "nbformat": 4,
 "nbformat_minor": 5
}
