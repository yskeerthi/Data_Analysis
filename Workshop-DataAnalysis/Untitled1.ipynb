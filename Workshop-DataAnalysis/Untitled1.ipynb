{
 "cells": [
  {
   "cell_type": "markdown",
   "id": "9c6145ed",
   "metadata": {},
   "source": [
    "#to import numpy library\n",
    "# numpy indexing and slicing..\n",
    "import numpy as np\n",
    "n2=np.array([[1,2,3],[4,5,6],[7,8,9]])\n",
    "print(n2)\n",
    "print(n2.ndim)\n",
    "# To accesss the numpy array elements\n",
    "# 1.to print the first row elements\n",
    "print(n2[0])\n",
    "#2> To print the last row elements\n",
    "print(n2[-1])\n",
    "#3. To print the specific element\n",
    "print(n2[1,0])\n",
    "# 4.To print the alternative rows..\n",
    "print(n2[::2])\n",
    "# 5.To print the specific coliumn elements..\n",
    "print(n2[:,[1]])"
   ]
  },
  {
   "cell_type": "code",
   "execution_count": 2,
   "id": "0a15de03",
   "metadata": {},
   "outputs": [
    {
     "name": "stdout",
     "output_type": "stream",
     "text": [
      "[[1 2 3]\n",
      " [4 5 6]\n",
      " [7 8 9]]\n"
     ]
    }
   ],
   "source": [
    "#to import numpy library\n",
    "# numpy indexing and slicing..\n",
    "import numpy as np\n",
    "n2=np.array([[1,2,3],[4,5,6],[7,8,9]])\n",
    "print(n2)\n"
   ]
  },
  {
   "cell_type": "code",
   "execution_count": 3,
   "id": "0593b2ba",
   "metadata": {},
   "outputs": [
    {
     "name": "stdout",
     "output_type": "stream",
     "text": [
      "2\n"
     ]
    }
   ],
   "source": [
    "print(n2.ndim)\n"
   ]
  },
  {
   "cell_type": "code",
   "execution_count": 4,
   "id": "cace2d8c",
   "metadata": {},
   "outputs": [
    {
     "name": "stdout",
     "output_type": "stream",
     "text": [
      "2\n"
     ]
    }
   ],
   "source": [
    "print(n2.ndim)\n"
   ]
  },
  {
   "cell_type": "code",
   "execution_count": 5,
   "id": "dcd37dbb",
   "metadata": {},
   "outputs": [
    {
     "name": "stdout",
     "output_type": "stream",
     "text": [
      "[1 2 3]\n"
     ]
    }
   ],
   "source": [
    "# To accesss the numpy array elements\n",
    "# 1.to print the first row elements\n",
    "print(n2[0])\n"
   ]
  },
  {
   "cell_type": "code",
   "execution_count": 7,
   "id": "6fc89055",
   "metadata": {
    "scrolled": true
   },
   "outputs": [
    {
     "name": "stdout",
     "output_type": "stream",
     "text": [
      "[7 8 9]\n",
      "4\n",
      "[[1 2 3]\n",
      " [7 8 9]]\n",
      "[[2]\n",
      " [5]\n",
      " [8]]\n"
     ]
    }
   ],
   "source": [
    "#2> To print the last row elements\n",
    "print(n2[-1])\n",
    "#3. To print the specific element\n",
    "print(n2[1,0])\n",
    "# 4.To print the alternative rows..\n",
    "print(n2[::2])\n",
    "# 5.To print the specific coliumn elements..\n",
    "print(n2[:,[1]])"
   ]
  },
  {
   "cell_type": "code",
   "execution_count": null,
   "id": "db40b8f4",
   "metadata": {},
   "outputs": [],
   "source": []
  },
  {
   "cell_type": "code",
   "execution_count": 8,
   "id": "20592088",
   "metadata": {},
   "outputs": [
    {
     "name": "stdout",
     "output_type": "stream",
     "text": [
      "[[1 2 3]\n",
      " [4 5 6]\n",
      " [7 8 9]]\n",
      "[[False  True False]\n",
      " [ True False  True]\n",
      " [False  True False]]\n",
      "[2 4 6 8]\n"
     ]
    }
   ],
   "source": [
    "#boolean indexing and fancy indexing:\n",
    "\n",
    "print(n2)\n",
    "# example on boolean indexing..\n",
    "# To print the even values..\n",
    "print(n2%2==0)\n",
    "#example of fancy indexing..\n",
    "print(n2[n2%2==0])"
   ]
  },
  {
   "cell_type": "code",
   "execution_count": null,
   "id": "329106b3",
   "metadata": {},
   "outputs": [],
   "source": [
    "### array manipulations:\n",
    "- reshape: To convert the 1-d array to n-d array.\n",
    "    suntax:\n",
    "            numpy_1d_array.reshape(rows,columns)\n",
    "            - number of 1-d elements size == rows*columns\n",
    "- resize"
   ]
  },
  {
   "cell_type": "code",
   "execution_count": 11,
   "id": "62daf6b4",
   "metadata": {},
   "outputs": [
    {
     "name": "stdout",
     "output_type": "stream",
     "text": [
      "[[1 2]\n",
      " [3 4]]\n",
      "apply vstack:\n",
      " [[1 2]\n",
      " [3 4]\n",
      " [1 1]\n",
      " [2 2]]\n",
      "apply hstack:\n",
      " [[1 2 1 1]\n",
      " [3 4 2 2]]\n"
     ]
    }
   ],
   "source": [
    "a=np.array([[1,2],[3,4]])\n",
    "print(a)\n",
    "b=np.array([[1,1],[2,2]])\n",
    "print('apply vstack:\\n',np.vstack((a,b)))\n",
    "print('apply hstack:\\n',np.hstack((a,b)))"
   ]
  },
  {
   "cell_type": "code",
   "execution_count": null,
   "id": "69b0f8da",
   "metadata": {},
   "outputs": [],
   "source": [
    "print(n2)\n",
    "n2=n2.ravel()\n",
    "print(n2)"
   ]
  }
 ],
 "metadata": {
  "kernelspec": {
   "display_name": "Python 3 (ipykernel)",
   "language": "python",
   "name": "python3"
  },
  "language_info": {
   "codemirror_mode": {
    "name": "ipython",
    "version": 3
   },
   "file_extension": ".py",
   "mimetype": "text/x-python",
   "name": "python",
   "nbconvert_exporter": "python",
   "pygments_lexer": "ipython3",
   "version": "3.11.4"
  }
 },
 "nbformat": 4,
 "nbformat_minor": 5
}
